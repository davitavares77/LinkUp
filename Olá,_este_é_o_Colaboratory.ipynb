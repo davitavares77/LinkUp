from supabase import create_client, Client
url='yrmjwewjmkiyzugfzdut.supabase.co'
key='process.env.SUPABASE_KEY'
supabase: Client = create_client("https://yrmjwewjmkiyzugfzdut.supabase.co", 'process.env.SUPABASE_KEY')

     #funçao de listar os posts amor
def ListPosts():
  response = supabase.table("posts").select("*,content, posted_ad, users")
  for post in response.data:
    print(post)

    #funçao do menu
def showmenu():
    print('1 - Cadastrar')
    print('2 - Login ')
    print('3 - Sair')
    print('4 - Limpar terminal')
    while True:
        try:
            option = int(input('Escolha opcao: '))
            break
        except ValueError:
            print("Digite apenas as opçoes corretas") #Caso o animal digitar a opçao errada (filha da puta)

    if option == 1:
        # Cadastro ta jorge?
        print('Digite o nome do usuario e a sua senha\n')
        user = input('Digite o nome do usuario: ')
        print(f'Usuario cadastrado :) {user}')
        password = input('Digite a senha: ')
        print(f'Senha cadastrada XD  {password}')
        return showmenu()


    if option == 2:
        #login
        print('Digite o seu nome de usuario e a senha da conta:\n')
        user = input('Digite o seu nome de usuario: ')
        password = input('Digite a senha: ')
        print(f'Usuario logado, BEM VINDO SENHOR {user}')
        return showmenu()

    elif option == 3:
        print('saindo')
        return exit()

    else:
        print(f'opçao invalida, insira de 1 a 3{option}\n')# tem q ser muito idiota pra digitar errado
        return showmenu()
#obs: jorge deixa o cavanhaque d malandro, fica midia
